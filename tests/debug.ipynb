{
 "cells": [
  {
   "cell_type": "code",
   "execution_count": 1,
   "metadata": {},
   "outputs": [],
   "source": [
    "from __future__ import annotations\n",
    "from dataclasses import dataclass, field\n",
    "from typing import List, Optional"
   ]
  },
  {
   "cell_type": "code",
   "execution_count": 2,
   "metadata": {},
   "outputs": [],
   "source": [
    "from cimgraph.databases import ConnectionParameters, RDFlibConnection\n",
    "from cimgraph.models import FeederModel\n",
    "import cimgraph.utils as utils\n",
    "import importlib\n",
    "from cimgraph import FeederModel"
   ]
  },
  {
   "cell_type": "code",
   "execution_count": 3,
   "metadata": {},
   "outputs": [],
   "source": [
    "import easycim as easycim"
   ]
  },
  {
   "cell_type": "code",
   "execution_count": 4,
   "metadata": {},
   "outputs": [],
   "source": [
    "cim_profile = 'cimhub_2023'\n",
    "cim = importlib.import_module('cimgraph.data_profile.' + cim_profile)\n",
    "\n",
    "# RDFLib File Reader Connection\n",
    "params = ConnectionParameters(filename=\"/home/ande188/CIM-Graph/tests/test_models/ieee13.xml\", cim_profile='cimhub_2023', iec61970_301=8)\n",
    "# params = ConnectionParameters(filename=\"IEEE13_Assets.xml\", cim_profile='cimhub_2023', iec61970_301=8)\n",
    "rdf = RDFlibConnection(params)"
   ]
  },
  {
   "cell_type": "code",
   "execution_count": 5,
   "metadata": {},
   "outputs": [],
   "source": [
    "feeder_mrid = \"49AD8E07-3BF9-A4E2-CB8F-C3722F837B62\"\n",
    "# feeder_mrid = \"5B816B93-7A5F-B64C-8460-47C17D6E4B0F\"\n",
    "feeder = cim.Feeder(mRID = feeder_mrid)\n",
    "network = FeederModel(connection=rdf, container=feeder, distributed=False)"
   ]
  },
  {
   "cell_type": "code",
   "execution_count": 6,
   "metadata": {},
   "outputs": [
    {
     "name": "stdout",
     "output_type": "stream",
     "text": [
      "{}\n"
     ]
    }
   ],
   "source": [
    "network.pprint(cim.OverheadWireInfo)"
   ]
  },
  {
   "cell_type": "code",
   "execution_count": 7,
   "metadata": {},
   "outputs": [],
   "source": [
    "line_data = easycim.get_impedance_data_per_line(network)\n",
    "geometry_data = easycim.get_geometry_data_per_line(network)\n",
    "all_line_data = easycim.get_all_data(network, 'ACLineSegment')\n",
    "geo_data2 = easycim.get_line_data_per_geometry(network)\n",
    "\n",
    "load_data = easycim.get_load_data(network)\n",
    "inverter_data = easycim.get_inverter_data(network)\n",
    "swing_data = easycim.get_swing_bus_data(network)\n",
    "xfmr_3ph = easycim.get_three_phase_transformer_data(network)"
   ]
  },
  {
   "cell_type": "code",
   "execution_count": 8,
   "metadata": {},
   "outputs": [],
   "source": [
    "line_data.update(geometry_data)"
   ]
  },
  {
   "cell_type": "code",
   "execution_count": 9,
   "metadata": {},
   "outputs": [
    {
     "name": "stdout",
     "output_type": "stream",
     "text": [
      "{\n",
      "    \"259E820F-B4AF-4E1A-8271-687534EDAECC\": {\n",
      "        \"vectorGroup\": \"Dyn1y1\",\n",
      "        \"PowerTransformerEnd\": [\n",
      "            {\n",
      "                \"Terminal\": {\n",
      "                    \"sequenceNumber\": \"2\",\n",
      "                    \"ConnectivityNode\": \"650\"\n",
      "                },\n",
      "                \"endNumber\": \"2\",\n",
      "                \"grounded\": \"true\",\n",
      "                \"rground\": \"0\",\n",
      "                \"xground\": \"0.4\",\n",
      "                \"connectionKind\": \"Yn\",\n",
      "                \"phaseAngleClock\": \"1\",\n",
      "                \"ratedS\": \"5000000\",\n",
      "                \"ratedU\": \"4160\",\n",
      "                \"r\": \"0.0000173056\",\n",
      "                \"StarImpedance\": {},\n",
      "                \"ToMeshImpedance\": [\n",
      "                    {\n",
      "                        \"r\": \"0.02645\",\n",
      "                        \"x\": \"0.2645\",\n",
      "                        \"r0\": \"0.02645\",\n",
      "                        \"x0\": \"0.2645\"\n",
      "                    }\n",
      "                ],\n",
      "                \"FromMeshImpedance\": [\n",
      "                    {\n",
      "                        \"r\": \"0.0000346112\",\n",
      "                        \"x\": \"0.00086528\",\n",
      "                        \"r0\": \"0.0000346112\",\n",
      "                        \"x0\": \"0.00086528\"\n",
      "                    }\n",
      "                ],\n",
      "                \"CoreAdmittance\": {}\n",
      "            },\n",
      "            {\n",
      "                \"Terminal\": {\n",
      "                    \"sequenceNumber\": \"3\",\n",
      "                    \"ConnectivityNode\": \"650z\"\n",
      "                },\n",
      "                \"endNumber\": \"3\",\n",
      "                \"grounded\": \"true\",\n",
      "                \"rground\": \"0\",\n",
      "                \"xground\": \"0\",\n",
      "                \"connectionKind\": \"Y\",\n",
      "                \"phaseAngleClock\": \"1\",\n",
      "                \"ratedS\": \"1000000\",\n",
      "                \"ratedU\": \"13200\",\n",
      "                \"r\": \"0.0008712\",\n",
      "                \"StarImpedance\": {},\n",
      "                \"ToMeshImpedance\": [\n",
      "                    {\n",
      "                        \"r\": \"0.0000346112\",\n",
      "                        \"x\": \"0.00086528\",\n",
      "                        \"r0\": \"0.0000346112\",\n",
      "                        \"x0\": \"0.00086528\"\n",
      "                    },\n",
      "                    {\n",
      "                        \"r\": \"0.02645\",\n",
      "                        \"x\": \"0.66125\",\n",
      "                        \"r0\": \"0.02645\",\n",
      "                        \"x0\": \"0.66125\"\n",
      "                    }\n",
      "                ],\n",
      "                \"FromMeshImpedance\": [],\n",
      "                \"CoreAdmittance\": {}\n",
      "            },\n",
      "            {\n",
      "                \"Terminal\": {\n",
      "                    \"sequenceNumber\": \"1\",\n",
      "                    \"ConnectivityNode\": \"sourcebus\"\n",
      "                },\n",
      "                \"endNumber\": \"1\",\n",
      "                \"grounded\": \"false\",\n",
      "                \"rground\": \"None\",\n",
      "                \"xground\": \"None\",\n",
      "                \"connectionKind\": \"D\",\n",
      "                \"phaseAngleClock\": \"0\",\n",
      "                \"ratedS\": \"5000000\",\n",
      "                \"ratedU\": \"115000\",\n",
      "                \"r\": \"0.013225\",\n",
      "                \"StarImpedance\": {},\n",
      "                \"ToMeshImpedance\": [],\n",
      "                \"FromMeshImpedance\": [\n",
      "                    {\n",
      "                        \"r\": \"0.02645\",\n",
      "                        \"x\": \"0.2645\",\n",
      "                        \"r0\": \"0.02645\",\n",
      "                        \"x0\": \"0.2645\"\n",
      "                    },\n",
      "                    {\n",
      "                        \"r\": \"0.02645\",\n",
      "                        \"x\": \"0.66125\",\n",
      "                        \"r0\": \"0.02645\",\n",
      "                        \"x0\": \"0.66125\"\n",
      "                    }\n",
      "                ],\n",
      "                \"CoreAdmittance\": {\n",
      "                    \"b\": \"0\",\n",
      "                    \"g\": \"0\",\n",
      "                    \"b0\": \"0\",\n",
      "                    \"g0\": \"0\"\n",
      "                }\n",
      "            }\n",
      "        ]\n",
      "    },\n",
      "    \"1E6B5C97-C4E8-4CED-B9A5-6E69F389DA93\": {\n",
      "        \"vectorGroup\": \"Yy\",\n",
      "        \"PowerTransformerEnd\": [\n",
      "            {\n",
      "                \"Terminal\": {\n",
      "                    \"sequenceNumber\": \"2\",\n",
      "                    \"ConnectivityNode\": \"634\"\n",
      "                },\n",
      "                \"endNumber\": \"2\",\n",
      "                \"grounded\": \"true\",\n",
      "                \"rground\": \"0\",\n",
      "                \"xground\": \"0\",\n",
      "                \"connectionKind\": \"Y\",\n",
      "                \"phaseAngleClock\": \"0\",\n",
      "                \"ratedS\": \"500000\",\n",
      "                \"ratedU\": \"480\",\n",
      "                \"r\": \"0.0025344\",\n",
      "                \"StarImpedance\": {},\n",
      "                \"ToMeshImpedance\": [\n",
      "                    {\n",
      "                        \"r\": \"0.3807232\",\n",
      "                        \"x\": \"0.692224\",\n",
      "                        \"r0\": \"0.3807232\",\n",
      "                        \"x0\": \"0.692224\"\n",
      "                    }\n",
      "                ],\n",
      "                \"FromMeshImpedance\": [],\n",
      "                \"CoreAdmittance\": {}\n",
      "            },\n",
      "            {\n",
      "                \"Terminal\": {\n",
      "                    \"sequenceNumber\": \"1\",\n",
      "                    \"ConnectivityNode\": \"xf1\"\n",
      "                },\n",
      "                \"endNumber\": \"1\",\n",
      "                \"grounded\": \"true\",\n",
      "                \"rground\": \"0\",\n",
      "                \"xground\": \"0\",\n",
      "                \"connectionKind\": \"Y\",\n",
      "                \"phaseAngleClock\": \"0\",\n",
      "                \"ratedS\": \"500000\",\n",
      "                \"ratedU\": \"4160\",\n",
      "                \"r\": \"0.1903616\",\n",
      "                \"StarImpedance\": {},\n",
      "                \"ToMeshImpedance\": [],\n",
      "                \"FromMeshImpedance\": [\n",
      "                    {\n",
      "                        \"r\": \"0.3807232\",\n",
      "                        \"x\": \"0.692224\",\n",
      "                        \"r0\": \"0.3807232\",\n",
      "                        \"x0\": \"0.692224\"\n",
      "                    }\n",
      "                ],\n",
      "                \"CoreAdmittance\": {\n",
      "                    \"b\": \"0\",\n",
      "                    \"g\": \"0\",\n",
      "                    \"b0\": \"0\",\n",
      "                    \"g0\": \"0\"\n",
      "                }\n",
      "            }\n",
      "        ]\n",
      "    }\n",
      "}\n"
     ]
    }
   ],
   "source": [
    "import json\n",
    "print(json.dumps(xfmr_3ph, indent=4))"
   ]
  },
  {
   "cell_type": "code",
   "execution_count": 10,
   "metadata": {},
   "outputs": [
    {
     "name": "stdout",
     "output_type": "stream",
     "text": [
      "{\n",
      "    \"8B452737-CA3D-4C10-A99D-6865506437C8\": {\n",
      "        \"mRID\": \"8B452737-CA3D-4C10-A99D-6865506437C8\",\n",
      "        \"name\": \"source\",\n",
      "        \"Location\": \"3818472D-6569-4901-849F-D5A68F6CDC24\",\n",
      "        \"EquipmentContainer\": \"49AD8E07-3BF9-A4E2-CB8F-C3722F837B62\",\n",
      "        \"BaseVoltage\": \"A7580663-0A6B-43E7-B1DF-45A4D25F0F97\",\n",
      "        \"Terminals\": \"['F9439A87-D8E9-406F-ADD3-336B29B8BCEA']\",\n",
      "        \"nominalVoltage\": \"115000\",\n",
      "        \"r\": \"0.16037668\",\n",
      "        \"r0\": \"0.17960358\",\n",
      "        \"voltageAngle\": \"0.52359878\",\n",
      "        \"voltageMagnitude\": \"115000\",\n",
      "        \"x\": \"0.64150673\",\n",
      "        \"x0\": \"0.53881075\"\n",
      "    }\n",
      "}\n"
     ]
    }
   ],
   "source": [
    "network.get_all_edges(cim.EnergySource)\n",
    "network.pprint(cim.EnergySource)"
   ]
  },
  {
   "cell_type": "code",
   "execution_count": 11,
   "metadata": {},
   "outputs": [
    {
     "data": {
      "text/plain": [
       "{'8B452737-CA3D-4C10-A99D-6865506437C8': {'r': '0.16037668',\n",
       "  'r0': '0.17960358',\n",
       "  'x': '0.64150673',\n",
       "  'x0': '0.53881075',\n",
       "  'nominalVoltage': '115000',\n",
       "  'voltageMagnitude': '115000',\n",
       "  'voltageAngle': '0.52359878',\n",
       "  'phases': []}}"
      ]
     },
     "execution_count": 11,
     "metadata": {},
     "output_type": "execute_result"
    }
   ],
   "source": [
    "swing_data"
   ]
  },
  {
   "cell_type": "code",
   "execution_count": 12,
   "metadata": {},
   "outputs": [],
   "source": [
    "@dataclass\n",
    "class cimplified_ACLineSegment():\n",
    "    mRID: Optional[str] = field(default=None)\n",
    "    name: Optional[str] = field(default=None)\n",
    "    r: Optional[str] = field(default=None)\n",
    "    x: Optional[str] = field(default=None)\n",
    "    bch: Optional[str] = field(default=None)\n",
    "    r0: Optional[str] = field(default=None)\n",
    "    x0: Optional[str] = field(default=None)\n",
    "    b0ch: Optional[str] = field(default=None)\n",
    "    phases: Optional[list] = field(default_factory=list)\n",
    "\n",
    "    \n",
    "@dataclass \n",
    "class cimplified_ACLineSegmentPhase():\n",
    "    name: Optional[str] = field(default=None)\n",
    "    phase: Optional[str] = field(default=None)\n",
    "    \n",
    "\n"
   ]
  },
  {
   "cell_type": "code",
   "execution_count": 13,
   "metadata": {},
   "outputs": [
    {
     "data": {
      "text/plain": [
       "{'mRID': None,\n",
       " 'name': None,\n",
       " 'r': None,\n",
       " 'x': None,\n",
       " 'bch': None,\n",
       " 'r0': None,\n",
       " 'x0': None,\n",
       " 'b0ch': None,\n",
       " 'phases': [cimplified_ACLineSegmentPhase(name='1', phase=None),\n",
       "  cimplified_ACLineSegmentPhase(name='2', phase=None)]}"
      ]
     },
     "execution_count": 13,
     "metadata": {},
     "output_type": "execute_result"
    }
   ],
   "source": [
    "line = cimplified_ACLineSegment()\n",
    "p1 = cimplified_ACLineSegmentPhase(name = '1')\n",
    "p2 = cimplified_ACLineSegmentPhase(name = '2')\n",
    "\n",
    "line.phases.append(p1)\n",
    "line.phases.append(p2)\n",
    "line.__dict__"
   ]
  },
  {
   "cell_type": "code",
   "execution_count": 14,
   "metadata": {},
   "outputs": [
    {
     "data": {
      "text/plain": [
       "dict_keys(['b0ch', 'bch', 'g0ch', 'gch', 'r', 'r0', 'shortCircuitEndTemperature', 'x', 'x0', 'ACLineSegmentPhases', 'Clamp', 'Cut', 'LineFaults', 'ParallelLineSegment', 'PerLengthImpedance', 'WireSpacingInfo'])"
      ]
     },
     "execution_count": 14,
     "metadata": {},
     "output_type": "execute_result"
    }
   ],
   "source": [
    "cim.ACLineSegment.__annotations__.keys()"
   ]
  },
  {
   "cell_type": "code",
   "execution_count": 15,
   "metadata": {},
   "outputs": [
    {
     "name": "stdout",
     "output_type": "stream",
     "text": [
      "[\n",
      "            \"connected\",\n",
      "            \"sequenceNumber\",\n",
      "            \"BusNameMarker\",\n",
      "            \"Measurements\",\n",
      "            \"OperationalLimitSet\"\n",
      "]\n"
     ]
    }
   ],
   "source": [
    "cim_class = cim.ACDCTerminal\n",
    "print(json.dumps(list(cim_class.__annotations__.keys()), indent=12))\n"
   ]
  },
  {
   "cell_type": "code",
   "execution_count": 16,
   "metadata": {},
   "outputs": [],
   "source": [
    "network.get_all_edges(cim.Terminal)\n",
    "network.__parsed__ = {}"
   ]
  },
  {
   "cell_type": "code",
   "execution_count": 17,
   "metadata": {},
   "outputs": [
    {
     "name": "stdout",
     "output_type": "stream",
     "text": [
      "{\n",
      "    \"FA1CDF26-3D23-45AE-AF62-5B924E86573A\": {\n",
      "        \"mRID\": \"FA1CDF26-3D23-45AE-AF62-5B924E86573A\",\n",
      "        \"name\": \"xfm1_End_2\",\n",
      "        \"endNumber\": \"2\",\n",
      "        \"grounded\": \"true\",\n",
      "        \"rground\": \"0\",\n",
      "        \"xground\": \"0\",\n",
      "        \"BaseVoltage\": \"11A577F8-F9E2-41D1-81E3-6CF46A310F5C\",\n",
      "        \"Terminal\": \"E1763FE3-82C2-4434-9424-72DF850D982E\",\n",
      "        \"ToMeshImpedance\": \"['A9A75635-5FA4-434E-933E-27D9AE4AA462']\",\n",
      "        \"connectionKind\": \"WindingConnection.Y\",\n",
      "        \"phaseAngleClock\": \"0\",\n",
      "        \"r\": \"0.0025344\",\n",
      "        \"ratedS\": \"500000\",\n",
      "        \"ratedU\": \"480\",\n",
      "        \"PowerTransformer\": \"1E6B5C97-C4E8-4CED-B9A5-6E69F389DA93\"\n",
      "    },\n",
      "    \"B0352ED5-349E-4511-9663-EC1131757376\": {\n",
      "        \"mRID\": \"B0352ED5-349E-4511-9663-EC1131757376\",\n",
      "        \"name\": \"xfm1_End_1\",\n",
      "        \"endNumber\": \"1\",\n",
      "        \"grounded\": \"true\",\n",
      "        \"rground\": \"0\",\n",
      "        \"xground\": \"0\",\n",
      "        \"BaseVoltage\": \"2A158E0C-CD01-4A50-AEBA-59D761FCF15D\",\n",
      "        \"CoreAdmittance\": \"DE26A1C8-B458-46E8-A583-675728B988AE\",\n",
      "        \"FromMeshImpedance\": \"['A9A75635-5FA4-434E-933E-27D9AE4AA462']\",\n",
      "        \"Terminal\": \"AF475341-BBE8-4C30-A30E-B6EBE9768322\",\n",
      "        \"connectionKind\": \"WindingConnection.Y\",\n",
      "        \"phaseAngleClock\": \"0\",\n",
      "        \"r\": \"0.1903616\",\n",
      "        \"ratedS\": \"500000\",\n",
      "        \"ratedU\": \"4160\",\n",
      "        \"PowerTransformer\": \"1E6B5C97-C4E8-4CED-B9A5-6E69F389DA93\"\n",
      "    },\n",
      "    \"19B21AD3-7795-4477-8232-74DAEC0DF7C9\": {\n",
      "        \"mRID\": \"19B21AD3-7795-4477-8232-74DAEC0DF7C9\",\n",
      "        \"name\": \"sub3_End_2\",\n",
      "        \"endNumber\": \"2\",\n",
      "        \"grounded\": \"true\",\n",
      "        \"rground\": \"0\",\n",
      "        \"xground\": \"0.4\",\n",
      "        \"BaseVoltage\": \"2A158E0C-CD01-4A50-AEBA-59D761FCF15D\",\n",
      "        \"FromMeshImpedance\": \"['91A53D6E-20CB-4534-8E35-A36139F6F01B']\",\n",
      "        \"Terminal\": \"BB0411D7-5261-433D-B327-549DA536EEEC\",\n",
      "        \"ToMeshImpedance\": \"['207A9A98-C56A-4C47-90F3-B6EE836C2058']\",\n",
      "        \"connectionKind\": \"WindingConnection.Yn\",\n",
      "        \"phaseAngleClock\": \"1\",\n",
      "        \"r\": \"0.0000173056\",\n",
      "        \"ratedS\": \"5000000\",\n",
      "        \"ratedU\": \"4160\",\n",
      "        \"PowerTransformer\": \"259E820F-B4AF-4E1A-8271-687534EDAECC\"\n",
      "    },\n",
      "    \"D103813B-F494-47B7-8A91-BA4EED4D61E4\": {\n",
      "        \"mRID\": \"D103813B-F494-47B7-8A91-BA4EED4D61E4\",\n",
      "        \"name\": \"sub3_End_3\",\n",
      "        \"endNumber\": \"3\",\n",
      "        \"grounded\": \"true\",\n",
      "        \"rground\": \"0\",\n",
      "        \"xground\": \"0\",\n",
      "        \"BaseVoltage\": \"E2C65193-0992-4022-B177-DAA954A56960\",\n",
      "        \"Terminal\": \"F6CE3095-9089-4B61-9C13-C7647ADBA888\",\n",
      "        \"ToMeshImpedance\": \"['91A53D6E-20CB-4534-8E35-A36139F6F01B', '9C8D279C-1827-4B5D-B9CA-A9566BD36929']\",\n",
      "        \"connectionKind\": \"WindingConnection.Y\",\n",
      "        \"phaseAngleClock\": \"1\",\n",
      "        \"r\": \"0.0008712\",\n",
      "        \"ratedS\": \"1000000\",\n",
      "        \"ratedU\": \"13200\",\n",
      "        \"PowerTransformer\": \"259E820F-B4AF-4E1A-8271-687534EDAECC\"\n",
      "    },\n",
      "    \"7F72BD91-DA7F-42D7-96F8-2E2FEBA9E4AB\": {\n",
      "        \"mRID\": \"7F72BD91-DA7F-42D7-96F8-2E2FEBA9E4AB\",\n",
      "        \"name\": \"sub3_End_1\",\n",
      "        \"endNumber\": \"1\",\n",
      "        \"grounded\": \"false\",\n",
      "        \"BaseVoltage\": \"A7580663-0A6B-43E7-B1DF-45A4D25F0F97\",\n",
      "        \"CoreAdmittance\": \"87E3F28F-C940-48FB-B5FA-0BE3BF3E2158\",\n",
      "        \"FromMeshImpedance\": \"['207A9A98-C56A-4C47-90F3-B6EE836C2058', '9C8D279C-1827-4B5D-B9CA-A9566BD36929']\",\n",
      "        \"Terminal\": \"717DFB1A-A300-444D-8D3B-0A093EAAD47B\",\n",
      "        \"connectionKind\": \"WindingConnection.D\",\n",
      "        \"phaseAngleClock\": \"0\",\n",
      "        \"r\": \"0.013225\",\n",
      "        \"ratedS\": \"5000000\",\n",
      "        \"ratedU\": \"115000\",\n",
      "        \"PowerTransformer\": \"259E820F-B4AF-4E1A-8271-687534EDAECC\"\n",
      "    }\n",
      "}\n"
     ]
    }
   ],
   "source": [
    "network.get_all_edges(cim.PowerTransformer)\n",
    "network.get_all_edges(cim.PowerTransformerEnd)\n",
    "network.pprint(cim.PowerTransformerEnd)"
   ]
  },
  {
   "cell_type": "code",
   "execution_count": 18,
   "metadata": {},
   "outputs": [
    {
     "data": {
      "text/plain": [
       "True"
      ]
     },
     "execution_count": 18,
     "metadata": {},
     "output_type": "execute_result"
    }
   ],
   "source": [
    "l = []\n",
    "l.append(cim.ACLineSegment)\n",
    "\n",
    "cim.ACLineSegment in l"
   ]
  },
  {
   "cell_type": "code",
   "execution_count": 19,
   "metadata": {},
   "outputs": [],
   "source": [
    "from typing import ClassVar"
   ]
  }
 ],
 "metadata": {
  "kernelspec": {
   "display_name": ".venv",
   "language": "python",
   "name": "python3"
  },
  "language_info": {
   "codemirror_mode": {
    "name": "ipython",
    "version": 3
   },
   "file_extension": ".py",
   "mimetype": "text/x-python",
   "name": "python",
   "nbconvert_exporter": "python",
   "pygments_lexer": "ipython3",
   "version": "3.10.12"
  }
 },
 "nbformat": 4,
 "nbformat_minor": 2
}
