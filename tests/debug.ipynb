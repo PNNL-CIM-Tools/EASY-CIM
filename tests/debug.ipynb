{
 "cells": [
  {
   "cell_type": "code",
   "execution_count": 1,
   "metadata": {},
   "outputs": [],
   "source": [
    "from __future__ import annotations\n",
    "from dataclasses import dataclass, field\n",
    "from typing import List, Optional"
   ]
  },
  {
   "cell_type": "code",
   "execution_count": 2,
   "metadata": {},
   "outputs": [],
   "source": [
    "from cimgraph.databases import ConnectionParameters, RDFlibConnection\n",
    "from cimgraph.models import FeederModel\n",
    "import cimgraph.utils as utils\n",
    "import importlib\n",
    "from cimgraph import FeederModel"
   ]
  },
  {
   "cell_type": "code",
   "execution_count": 3,
   "metadata": {},
   "outputs": [],
   "source": [
    "import easycim as easycim"
   ]
  },
  {
   "cell_type": "code",
   "execution_count": 4,
   "metadata": {},
   "outputs": [],
   "source": [
    "cim_profile = 'cimhub_2023'\n",
    "cim = importlib.import_module('cimgraph.data_profile.' + cim_profile)\n",
    "\n",
    "# RDFLib File Reader Connection\n",
    "params = ConnectionParameters(filename=\"/home/ande188/CIM-Graph/tests/test_models/ieee13.xml\", cim_profile='cimhub_2023', iec61970_301=8)\n",
    "# params = ConnectionParameters(filename=\"IEEE13_Assets.xml\", cim_profile='cimhub_2023', iec61970_301=8)\n",
    "rdf = RDFlibConnection(params)"
   ]
  },
  {
   "cell_type": "code",
   "execution_count": 5,
   "metadata": {},
   "outputs": [],
   "source": [
    "feeder_mrid = \"49AD8E07-3BF9-A4E2-CB8F-C3722F837B62\"\n",
    "# feeder_mrid = \"5B816B93-7A5F-B64C-8460-47C17D6E4B0F\"\n",
    "feeder = cim.Feeder(mRID = feeder_mrid)\n",
    "network = FeederModel(connection=rdf, container=feeder, distributed=False)"
   ]
  },
  {
   "cell_type": "code",
   "execution_count": 6,
   "metadata": {},
   "outputs": [
    {
     "name": "stdout",
     "output_type": "stream",
     "text": [
      "{}\n"
     ]
    }
   ],
   "source": [
    "network.pprint(cim.OverheadWireInfo)"
   ]
  },
  {
   "cell_type": "code",
   "execution_count": 7,
   "metadata": {},
   "outputs": [],
   "source": [
    "line_data = easycim.get_impedance_data_per_line(network)\n",
    "geometry_data = easycim.get_geometry_data_per_line(network)\n",
    "geo_data2 = easycim.get_line_data_per_geometry(network)\n",
    "load_data = easycim.get_load_data(network)\n",
    "inverter_data = easycim.get_inverter_data(network)"
   ]
  },
  {
   "cell_type": "code",
   "execution_count": 8,
   "metadata": {},
   "outputs": [
    {
     "name": "stdout",
     "output_type": "stream",
     "text": [
      "{\n",
      "    \"A9E8758B-5486-4798-8FBA-9AE639ABFC38\": {\n",
      "        \"p\": \"-1000\",\n",
      "        \"q\": \"0\",\n",
      "        \"minQ\": \"-25000\",\n",
      "        \"maxQ\": \"25000\",\n",
      "        \"ratedS\": \"100000\",\n",
      "        \"ratedU\": \"480\",\n",
      "        \"maxIFault\": \"1.1111111\",\n",
      "        \"phases\": [],\n",
      "        \"PowerElectronicsUnit\": [\n",
      "            {\n",
      "                \"minP\": \"-100000\",\n",
      "                \"maxP\": \"100000\",\n",
      "                \"batteryState\": \"waiting\",\n",
      "                \"ratedE\": \"200000\",\n",
      "                \"storedE\": \"100000\",\n",
      "                \"__class__\": \"BatteryUnit\"\n",
      "            }\n",
      "        ]\n",
      "    },\n",
      "    \"D2E930A7-B136-4ACA-A996-8DB5C60AADF3\": {\n",
      "        \"p\": \"240000\",\n",
      "        \"q\": \"0\",\n",
      "        \"minQ\": \"-75000\",\n",
      "        \"maxQ\": \"75000\",\n",
      "        \"ratedS\": \"300000\",\n",
      "        \"ratedU\": \"480\",\n",
      "        \"maxIFault\": \"1.1111111\",\n",
      "        \"phases\": [],\n",
      "        \"PowerElectronicsUnit\": [\n",
      "            {\n",
      "                \"minP\": \"60000\",\n",
      "                \"maxP\": \"300000\",\n",
      "                \"__class__\": \"PhotovoltaicUnit\"\n",
      "            }\n",
      "        ]\n",
      "    },\n",
      "    \"682AB7A9-4FBF-4204-BDE1-27EAB3425DA0\": {\n",
      "        \"p\": \"-5000\",\n",
      "        \"q\": \"0\",\n",
      "        \"minQ\": \"-5000\",\n",
      "        \"maxQ\": \"5000\",\n",
      "        \"ratedS\": \"5000\",\n",
      "        \"ratedU\": \"208\",\n",
      "        \"maxIFault\": \"1.1111111\",\n",
      "        \"phases\": [\n",
      "            {\n",
      "                \"p\": \"-2500\",\n",
      "                \"q\": \"0\",\n",
      "                \"phase\": \"s2\"\n",
      "            },\n",
      "            {\n",
      "                \"p\": \"-2500\",\n",
      "                \"q\": \"0\",\n",
      "                \"phase\": \"s1\"\n",
      "            }\n",
      "        ],\n",
      "        \"PowerElectronicsUnit\": [\n",
      "            {\n",
      "                \"minP\": \"-5000\",\n",
      "                \"maxP\": \"5000\",\n",
      "                \"batteryState\": \"charging\",\n",
      "                \"ratedE\": \"13500\",\n",
      "                \"storedE\": \"5000\",\n",
      "                \"__class__\": \"BatteryUnit\"\n",
      "            }\n",
      "        ]\n",
      "    },\n",
      "    \"7B671984-4C56-4FF1-9733-B4B6FCA5F2AA\": {\n",
      "        \"p\": \"100000\",\n",
      "        \"q\": \"0\",\n",
      "        \"minQ\": \"-25000\",\n",
      "        \"maxQ\": \"25000\",\n",
      "        \"ratedS\": \"100000\",\n",
      "        \"ratedU\": \"480\",\n",
      "        \"maxIFault\": \"1.1111111\",\n",
      "        \"phases\": [],\n",
      "        \"PowerElectronicsUnit\": [\n",
      "            {\n",
      "                \"minP\": \"-100000\",\n",
      "                \"maxP\": \"100000\",\n",
      "                \"batteryState\": \"discharging\",\n",
      "                \"ratedE\": \"200000\",\n",
      "                \"storedE\": \"100000\",\n",
      "                \"__class__\": \"BatteryUnit\"\n",
      "            }\n",
      "        ]\n",
      "    },\n",
      "    \"CEC0FC3A-0FD1-4F1C-9C51-7D9BEF4D8222\": {\n",
      "        \"p\": \"4000\",\n",
      "        \"q\": \"0\",\n",
      "        \"minQ\": \"-1250\",\n",
      "        \"maxQ\": \"1250\",\n",
      "        \"ratedS\": \"5000\",\n",
      "        \"ratedU\": \"208\",\n",
      "        \"maxIFault\": \"1.1111111\",\n",
      "        \"phases\": [\n",
      "            {\n",
      "                \"p\": \"2000\",\n",
      "                \"q\": \"0\",\n",
      "                \"phase\": \"s2\"\n",
      "            },\n",
      "            {\n",
      "                \"p\": \"2000\",\n",
      "                \"q\": \"0\",\n",
      "                \"phase\": \"s1\"\n",
      "            }\n",
      "        ],\n",
      "        \"PowerElectronicsUnit\": [\n",
      "            {\n",
      "                \"minP\": \"1000\",\n",
      "                \"maxP\": \"5000\",\n",
      "                \"__class__\": \"PhotovoltaicUnit\"\n",
      "            }\n",
      "        ]\n",
      "    }\n",
      "}\n"
     ]
    }
   ],
   "source": [
    "import json\n",
    "print(json.dumps(inverter_data, indent=4))"
   ]
  },
  {
   "cell_type": "code",
   "execution_count": 9,
   "metadata": {},
   "outputs": [],
   "source": [
    "@dataclass\n",
    "class cimplified_ACLineSegment():\n",
    "    mRID: Optional[str] = field(default=None)\n",
    "    name: Optional[str] = field(default=None)\n",
    "    r: Optional[str] = field(default=None)\n",
    "    x: Optional[str] = field(default=None)\n",
    "    bch: Optional[str] = field(default=None)\n",
    "    r0: Optional[str] = field(default=None)\n",
    "    x0: Optional[str] = field(default=None)\n",
    "    b0ch: Optional[str] = field(default=None)\n",
    "    phases: Optional[list] = field(default_factory=list)\n",
    "\n",
    "    \n",
    "@dataclass \n",
    "class cimplified_ACLineSegmentPhase():\n",
    "    name: Optional[str] = field(default=None)\n",
    "    phase: Optional[str] = field(default=None)\n",
    "    \n",
    "\n"
   ]
  },
  {
   "cell_type": "code",
   "execution_count": 10,
   "metadata": {},
   "outputs": [
    {
     "data": {
      "text/plain": [
       "{'mRID': None,\n",
       " 'name': None,\n",
       " 'r': None,\n",
       " 'x': None,\n",
       " 'bch': None,\n",
       " 'r0': None,\n",
       " 'x0': None,\n",
       " 'b0ch': None,\n",
       " 'phases': [cimplified_ACLineSegmentPhase(name='1', phase=None),\n",
       "  cimplified_ACLineSegmentPhase(name='2', phase=None)]}"
      ]
     },
     "execution_count": 10,
     "metadata": {},
     "output_type": "execute_result"
    }
   ],
   "source": [
    "line = cimplified_ACLineSegment()\n",
    "p1 = cimplified_ACLineSegmentPhase(name = '1')\n",
    "p2 = cimplified_ACLineSegmentPhase(name = '2')\n",
    "\n",
    "line.phases.append(p1)\n",
    "line.phases.append(p2)\n",
    "line.__dict__"
   ]
  },
  {
   "cell_type": "code",
   "execution_count": 11,
   "metadata": {},
   "outputs": [
    {
     "data": {
      "text/plain": [
       "dict_keys(['b0ch', 'bch', 'g0ch', 'gch', 'r', 'r0', 'shortCircuitEndTemperature', 'x', 'x0', 'ACLineSegmentPhases', 'Clamp', 'Cut', 'LineFaults', 'ParallelLineSegment', 'PerLengthImpedance', 'WireSpacingInfo'])"
      ]
     },
     "execution_count": 11,
     "metadata": {},
     "output_type": "execute_result"
    }
   ],
   "source": [
    "cim.ACLineSegment.__annotations__.keys()"
   ]
  },
  {
   "cell_type": "code",
   "execution_count": 12,
   "metadata": {},
   "outputs": [
    {
     "name": "stdout",
     "output_type": "stream",
     "text": [
      "[\n",
      "            \"coolingSetpoint\",\n",
      "            \"coolingSystem\",\n",
      "            \"floorArea\",\n",
      "            \"heatingSetpoint\",\n",
      "            \"heatingSystem\",\n",
      "            \"hvacPowerFactor\",\n",
      "            \"numberOfStories\",\n",
      "            \"EnergyConsumer\",\n",
      "            \"ThermostatController\"\n",
      "]\n"
     ]
    }
   ],
   "source": [
    "cim_class = cim.House\n",
    "print(json.dumps(list(cim_class.__annotations__.keys()), indent=12))\n"
   ]
  },
  {
   "cell_type": "code",
   "execution_count": null,
   "metadata": {},
   "outputs": [],
   "source": []
  }
 ],
 "metadata": {
  "kernelspec": {
   "display_name": ".venv",
   "language": "python",
   "name": "python3"
  },
  "language_info": {
   "codemirror_mode": {
    "name": "ipython",
    "version": 3
   },
   "file_extension": ".py",
   "mimetype": "text/x-python",
   "name": "python",
   "nbconvert_exporter": "python",
   "pygments_lexer": "ipython3",
   "version": "3.10.12"
  }
 },
 "nbformat": 4,
 "nbformat_minor": 2
}
