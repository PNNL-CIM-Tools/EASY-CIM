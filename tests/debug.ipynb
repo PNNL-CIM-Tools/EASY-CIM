{
 "cells": [
  {
   "cell_type": "code",
   "execution_count": 1,
   "metadata": {},
   "outputs": [],
   "source": [
    "import json\n",
    "import importlib"
   ]
  },
  {
   "cell_type": "code",
   "execution_count": 6,
   "metadata": {},
   "outputs": [],
   "source": [
    "from cimgraph.databases import ConnectionParameters, RDFlibConnection, BlazegraphConnection\n",
    "from cimgraph.models import FeederModel\n"
   ]
  },
  {
   "cell_type": "code",
   "execution_count": 3,
   "metadata": {},
   "outputs": [],
   "source": [
    "cim_profile = 'cimhub_2023'\n",
    "cim = importlib.import_module('cimgraph.data_profile.' + cim_profile)\n",
    "\n",
    "# RDFLib File Reader Connection\n",
    "# params = ConnectionParameters(filename=\"/home/ande188/CIM-Graph/tests/test_models/ieee13.xml\", cim_profile='cimhub_2023', iec61970_301=8)\n",
    "params = ConnectionParameters(filename=\"IEEE13_Assets.xml\", cim_profile='cimhub_2023', iec61970_301=8)\n",
    "rdf = RDFlibConnection(params)"
   ]
  },
  {
   "cell_type": "code",
   "execution_count": 4,
   "metadata": {},
   "outputs": [],
   "source": [
    "# feeder_mrid = \"49AD8E07-3BF9-A4E2-CB8F-C3722F837B62\"\n",
    "feeder_mrid = \"5B816B93-7A5F-B64C-8460-47C17D6E4B0F\"\n",
    "feeder = cim.Feeder(mRID = feeder_mrid)\n",
    "network = FeederModel(connection=rdf, container=feeder, distributed=False)"
   ]
  },
  {
   "cell_type": "code",
   "execution_count": null,
   "metadata": {},
   "outputs": [],
   "source": []
  },
  {
   "cell_type": "code",
   "execution_count": 5,
   "metadata": {},
   "outputs": [],
   "source": [
    "import easycim as easycim"
   ]
  },
  {
   "cell_type": "code",
   "execution_count": 6,
   "metadata": {},
   "outputs": [],
   "source": [
    "line_data = easycim.get_impedance_data_per_line(network)\n",
    "\n",
    "geometry_data = easycim.get_geometry_data_per_line(network)\n",
    "\n",
    "all_line_data = easycim.get_all_data(network, 'ACLineSegment')\n",
    "\n",
    "\n",
    "geo_data2 = easycim.get_line_data_per_geometry(network)\n",
    "\n",
    "load_data = easycim.get_load_data(network)\n",
    "load_data = easycim.get_all_data(network, 'EnergyConsumer')\n",
    "\n",
    "inverter_data = easycim.get_inverter_data(network)\n",
    "inverter_data = easycim.get_all_data(network, 'PowerElectronicsConnection')\n",
    "\n",
    "swing_data = easycim.get_swing_bus_data(network)\n",
    "swing_data = easycim.get_all_data(network, 'EnergySource')\n",
    "\n",
    "xfmr_3ph = easycim.get_three_phase_transformer_data(network)\n",
    "swing_data = easycim.get_all_data(network, 'PowerTransformer')"
   ]
  },
  {
   "cell_type": "code",
   "execution_count": 7,
   "metadata": {},
   "outputs": [],
   "source": [
    "# impedance per line\n",
    "line_data = easycim.get_impedance_data_per_line(network)\n",
    "\n",
    "\n",
    "with open(\"geometry_per_line.json\", \"w\") as file:\n",
    "    json.dump(geometry_data, file, indent=4)\n",
    "    \n",
    "# geometry per line\n",
    "geometry_data = easycim.get_geometry_data_per_line(network)\n",
    "\n",
    "with open(\"impedance_per_line.json\", \"w\") as file:\n",
    "    json.dump(line_data, file, indent=4)"
   ]
  },
  {
   "cell_type": "code",
   "execution_count": null,
   "metadata": {},
   "outputs": [],
   "source": [
    "\n"
   ]
  },
  {
   "cell_type": "code",
   "execution_count": 8,
   "metadata": {},
   "outputs": [],
   "source": [
    "# all line data\n",
    "all_line_data = easycim.get_all_data(network, 'ACLineSegment')\n",
    "\n",
    "with open(\"line_data.json\", \"w\") as file:\n",
    "    json.dump(all_line_data, file, indent=4)\n",
    "\n",
    "geometry_data = easycim.get_line_data_per_geometry(network)\n",
    "with open(\"geometry_data.json\", \"w\") as file:\n",
    "    json.dump(geometry_data, file, indent=4)"
   ]
  },
  {
   "cell_type": "code",
   "execution_count": 9,
   "metadata": {},
   "outputs": [],
   "source": [
    "# Get load data\n",
    "\n",
    "# Use shortcut name\n",
    "load_data = easycim.get_load_data(network)\n",
    "# Use CIM class name\n",
    "load_data = easycim.get_all_data(network, 'EnergyConsumer')\n",
    "\n",
    "with open(\"load_data.json\", \"w\") as file:\n",
    "    json.dump(load_data, file, indent=4)"
   ]
  },
  {
   "cell_type": "code",
   "execution_count": 10,
   "metadata": {},
   "outputs": [],
   "source": [
    "# Get swing bus data\n",
    "\n",
    "# Use shortcut name\n",
    "swing_data = easycim.get_swing_bus_data(network)\n",
    "# Use CIM class name\n",
    "swing_data = easycim.get_all_data(network, 'EnergySource')\n",
    "\n",
    "with open(\"swing_bus_data.json\", \"w\") as file:\n",
    "    json.dump(swing_data, file, indent=4)"
   ]
  },
  {
   "cell_type": "code",
   "execution_count": 11,
   "metadata": {},
   "outputs": [],
   "source": [
    "# Use shortcut name\n",
    "inverter_data = easycim.get_inverter_data(network)\n",
    "# Use CIM class name\n",
    "inverter_data = easycim.get_all_data(network, 'PowerElectronicsConnection')\n",
    "\n",
    "with open(\"inverter_data.json\", \"w\") as file:\n",
    "    json.dump(inverter_data, file, indent=4)"
   ]
  },
  {
   "cell_type": "code",
   "execution_count": 12,
   "metadata": {},
   "outputs": [
    {
     "name": "stdout",
     "output_type": "stream",
     "text": [
      "{}\n"
     ]
    }
   ],
   "source": [
    "import json\n",
    "print(json.dumps(xfmr_3ph, indent=4))"
   ]
  },
  {
   "cell_type": "code",
   "execution_count": 13,
   "metadata": {},
   "outputs": [
    {
     "name": "stdout",
     "output_type": "stream",
     "text": [
      "{\n",
      "    \"C28BFD4B-C7D1-49AD-BAA6-E06CB0856A72\": {\n",
      "        \"mRID\": \"C28BFD4B-C7D1-49AD-BAA6-E06CB0856A72\",\n",
      "        \"name\": \"source\",\n",
      "        \"Location\": \"3F99090B-CA0F-485B-8337-020955CD6EBB\",\n",
      "        \"EquipmentContainer\": \"5B816B93-7A5F-B64C-8460-47C17D6E4B0F\",\n",
      "        \"BaseVoltage\": \"1052CFA1-B697-4B95-9F43-7F1C2C01375F\",\n",
      "        \"Terminals\": \"['03D4AECC-F757-41D4-A2C3-D4C80A7AE26D']\",\n",
      "        \"nominalVoltage\": \"115000\",\n",
      "        \"r\": \"0.16037668\",\n",
      "        \"r0\": \"0.17960358\",\n",
      "        \"voltageAngle\": \"0.52359878\",\n",
      "        \"voltageMagnitude\": \"115000\",\n",
      "        \"x\": \"0.64150673\",\n",
      "        \"x0\": \"0.53881075\"\n",
      "    }\n",
      "}\n"
     ]
    }
   ],
   "source": [
    "network.get_all_edges(cim.EnergySource)\n",
    "network.pprint(cim.EnergySource)"
   ]
  },
  {
   "cell_type": "code",
   "execution_count": 14,
   "metadata": {},
   "outputs": [
    {
     "data": {
      "text/plain": [
       "{'C28BFD4B-C7D1-49AD-BAA6-E06CB0856A72': {'r': '0.16037668',\n",
       "  'r0': '0.17960358',\n",
       "  'x': '0.64150673',\n",
       "  'x0': '0.53881075',\n",
       "  'nominalVoltage': '115000',\n",
       "  'voltageMagnitude': '115000',\n",
       "  'voltageAngle': '0.52359878',\n",
       "  'phases': []}}"
      ]
     },
     "execution_count": 14,
     "metadata": {},
     "output_type": "execute_result"
    }
   ],
   "source": [
    "swing_data"
   ]
  }
 ],
 "metadata": {
  "kernelspec": {
   "display_name": ".venv",
   "language": "python",
   "name": "python3"
  },
  "language_info": {
   "codemirror_mode": {
    "name": "ipython",
    "version": 3
   },
   "file_extension": ".py",
   "mimetype": "text/x-python",
   "name": "python",
   "nbconvert_exporter": "python",
   "pygments_lexer": "ipython3",
   "version": "3.10.12"
  }
 },
 "nbformat": 4,
 "nbformat_minor": 2
}
