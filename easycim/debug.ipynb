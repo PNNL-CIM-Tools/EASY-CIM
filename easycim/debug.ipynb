{
 "cells": [
  {
   "cell_type": "code",
   "execution_count": 1,
   "metadata": {},
   "outputs": [],
   "source": [
    "from __future__ import annotations\n",
    "from dataclasses import dataclass, field\n",
    "from typing import List, Optional"
   ]
  },
  {
   "cell_type": "code",
   "execution_count": 2,
   "metadata": {},
   "outputs": [],
   "source": [
    "from cimgraph.databases import ConnectionParameters, RDFlibConnection\n",
    "from cimgraph.models import FeederModel\n",
    "import cimgraph.utils as utils\n",
    "import importlib\n",
    "from cimgraph import FeederModel"
   ]
  },
  {
   "cell_type": "code",
   "execution_count": 3,
   "metadata": {},
   "outputs": [],
   "source": [
    "import easycim as easycim"
   ]
  },
  {
   "cell_type": "code",
   "execution_count": 4,
   "metadata": {},
   "outputs": [],
   "source": [
    "cim_profile = 'cimhub_2023'\n",
    "cim = importlib.import_module('cimgraph.data_profile.' + cim_profile)\n",
    "\n",
    "# RDFLib File Reader Connection\n",
    "# params = ConnectionParameters(filename=\"/home/ande188/CIM-Graph/tests/test_models/ieee13.xml\", cim_profile='cimhub_2023', iec61970_301=8)\n",
    "params = ConnectionParameters(filename=\"IEEE13_Assets.xml\", cim_profile='cimhub_2023', iec61970_301=8)\n",
    "rdf = RDFlibConnection(params)"
   ]
  },
  {
   "cell_type": "code",
   "execution_count": 5,
   "metadata": {},
   "outputs": [],
   "source": [
    "# feeder_mrid = \"49AD8E07-3BF9-A4E2-CB8F-C3722F837B62\"\n",
    "feeder_mrid = \"5B816B93-7A5F-B64C-8460-47C17D6E4B0F\"\n",
    "feeder = cim.Feeder(mRID = feeder_mrid)\n",
    "network = FeederModel(connection=rdf, container=feeder, distributed=False)"
   ]
  },
  {
   "cell_type": "code",
   "execution_count": 6,
   "metadata": {},
   "outputs": [
    {
     "name": "stdout",
     "output_type": "stream",
     "text": [
      "{}\n"
     ]
    }
   ],
   "source": [
    "network.pprint(cim.OverheadWireInfo)"
   ]
  },
  {
   "cell_type": "code",
   "execution_count": 7,
   "metadata": {},
   "outputs": [],
   "source": [
    "line_data = easycim.get_impedance_data_per_line(network)\n",
    "geometry_data = easycim.get_geometry_data_per_line(network)\n",
    "geo_data2 = easycim.get_line_data_per_geometry(network)\n",
    "load_data = easycim.get_load_data(network)"
   ]
  },
  {
   "cell_type": "code",
   "execution_count": 14,
   "metadata": {},
   "outputs": [
    {
     "name": "stdout",
     "output_type": "stream",
     "text": [
      "{\n",
      "    \"6964DE20-CC96-473D-BB0F-73CD8ACAED2D\": {\n",
      "        \"p\": \"120000\",\n",
      "        \"q\": \"90000\",\n",
      "        \"customerCount\": \"1\",\n",
      "        \"grounded\": \"true\",\n",
      "        \"phaseConnection\": \"Y\",\n",
      "        \"phases\": [\n",
      "            {\n",
      "                \"p\": \"120000\",\n",
      "                \"q\": \"90000\",\n",
      "                \"phase\": \"C\"\n",
      "            }\n",
      "        ]\n",
      "    },\n",
      "    \"928BCF3C-276A-4E74-A4AE-C3C79D624F5F\": {\n",
      "        \"p\": \"160000\",\n",
      "        \"q\": \"110000\",\n",
      "        \"customerCount\": \"1\",\n",
      "        \"grounded\": \"true\",\n",
      "        \"phaseConnection\": \"Y\",\n",
      "        \"phases\": [\n",
      "            {\n",
      "                \"p\": \"160000\",\n",
      "                \"q\": \"110000\",\n",
      "                \"phase\": \"A\"\n",
      "            }\n",
      "        ]\n",
      "    },\n",
      "    \"819CA18E-54AA-42D5-B069-F1AC831D926E\": {\n",
      "        \"p\": \"1155000\",\n",
      "        \"q\": \"660000\",\n",
      "        \"customerCount\": \"1\",\n",
      "        \"grounded\": \"false\",\n",
      "        \"phaseConnection\": \"D\",\n",
      "        \"phases\": []\n",
      "    },\n",
      "    \"EF316EA5-74D3-4209-89EA-BF8FAAC2BAF6\": {\n",
      "        \"p\": \"128000\",\n",
      "        \"q\": \"86000\",\n",
      "        \"customerCount\": \"1\",\n",
      "        \"grounded\": \"true\",\n",
      "        \"phaseConnection\": \"Y\",\n",
      "        \"phases\": [\n",
      "            {\n",
      "                \"p\": \"128000\",\n",
      "                \"q\": \"86000\",\n",
      "                \"phase\": \"A\"\n",
      "            }\n",
      "        ]\n",
      "    },\n",
      "    \"F3D41D9D-9606-4277-A336-69D7048301AF\": {\n",
      "        \"p\": \"170000\",\n",
      "        \"q\": \"125000\",\n",
      "        \"customerCount\": \"1\",\n",
      "        \"grounded\": \"true\",\n",
      "        \"phaseConnection\": \"Y\",\n",
      "        \"phases\": [\n",
      "            {\n",
      "                \"p\": \"170000\",\n",
      "                \"q\": \"125000\",\n",
      "                \"phase\": \"B\"\n",
      "            }\n",
      "        ]\n",
      "    },\n",
      "    \"4FE57842-43D5-4EBB-8FF1-795E6FE1C507\": {\n",
      "        \"p\": \"66000\",\n",
      "        \"q\": \"38000\",\n",
      "        \"customerCount\": \"1\",\n",
      "        \"grounded\": \"true\",\n",
      "        \"phaseConnection\": \"Y\",\n",
      "        \"phases\": [\n",
      "            {\n",
      "                \"p\": \"66000\",\n",
      "                \"q\": \"38000\",\n",
      "                \"phase\": \"B\"\n",
      "            }\n",
      "        ]\n",
      "    },\n",
      "    \"7E0E4F76-E0FD-4BB5-BB58-BC5B05A5A59A\": {\n",
      "        \"p\": \"117000\",\n",
      "        \"q\": \"68000\",\n",
      "        \"customerCount\": \"1\",\n",
      "        \"grounded\": \"true\",\n",
      "        \"phaseConnection\": \"Y\",\n",
      "        \"phases\": [\n",
      "            {\n",
      "                \"p\": \"117000\",\n",
      "                \"q\": \"68000\",\n",
      "                \"phase\": \"C\"\n",
      "            }\n",
      "        ]\n",
      "    },\n",
      "    \"46479235-D5D9-4CE8-9F7C-C78426691797\": {\n",
      "        \"p\": \"290000\",\n",
      "        \"q\": \"212000\",\n",
      "        \"customerCount\": \"1\",\n",
      "        \"grounded\": \"true\",\n",
      "        \"phaseConnection\": \"Y\",\n",
      "        \"phases\": [\n",
      "            {\n",
      "                \"p\": \"290000\",\n",
      "                \"q\": \"212000\",\n",
      "                \"phase\": \"C\"\n",
      "            }\n",
      "        ]\n",
      "    },\n",
      "    \"8A0CF414-3240-47D1-AB8F-998165BA092E\": {\n",
      "        \"p\": \"170000\",\n",
      "        \"q\": \"151000\",\n",
      "        \"customerCount\": \"1\",\n",
      "        \"grounded\": \"false\",\n",
      "        \"phaseConnection\": \"D\",\n",
      "        \"phases\": [\n",
      "            {\n",
      "                \"p\": \"170000\",\n",
      "                \"q\": \"151000\",\n",
      "                \"phase\": \"C\"\n",
      "            }\n",
      "        ]\n",
      "    },\n",
      "    \"EBD2AE36-04A5-4EA9-836F-12F9D3CCB777\": {\n",
      "        \"p\": \"485000\",\n",
      "        \"q\": \"190000\",\n",
      "        \"customerCount\": \"1\",\n",
      "        \"grounded\": \"true\",\n",
      "        \"phaseConnection\": \"Y\",\n",
      "        \"phases\": [\n",
      "            {\n",
      "                \"p\": \"485000\",\n",
      "                \"q\": \"190000\",\n",
      "                \"phase\": \"A\"\n",
      "            }\n",
      "        ]\n",
      "    },\n",
      "    \"F841F05A-E047-491F-BF7B-C71283C653D6\": {\n",
      "        \"p\": \"68000\",\n",
      "        \"q\": \"60000\",\n",
      "        \"customerCount\": \"1\",\n",
      "        \"grounded\": \"true\",\n",
      "        \"phaseConnection\": \"Y\",\n",
      "        \"phases\": [\n",
      "            {\n",
      "                \"p\": \"68000\",\n",
      "                \"q\": \"60000\",\n",
      "                \"phase\": \"B\"\n",
      "            }\n",
      "        ]\n",
      "    },\n",
      "    \"C9CB60C2-46E0-4FDC-B2A5-73318344E4C9\": {\n",
      "        \"p\": \"230000\",\n",
      "        \"q\": \"132000\",\n",
      "        \"customerCount\": \"1\",\n",
      "        \"grounded\": \"false\",\n",
      "        \"phaseConnection\": \"D\",\n",
      "        \"phases\": [\n",
      "            {\n",
      "                \"p\": \"230000\",\n",
      "                \"q\": \"132000\",\n",
      "                \"phase\": \"B\"\n",
      "            }\n",
      "        ]\n",
      "    },\n",
      "    \"D186291A-2487-45AE-83C7-651C7C71D41E\": {\n",
      "        \"p\": \"170000\",\n",
      "        \"q\": \"80000\",\n",
      "        \"customerCount\": \"1\",\n",
      "        \"grounded\": \"true\",\n",
      "        \"phaseConnection\": \"Y\",\n",
      "        \"phases\": [\n",
      "            {\n",
      "                \"p\": \"170000\",\n",
      "                \"q\": \"80000\",\n",
      "                \"phase\": \"C\"\n",
      "            }\n",
      "        ]\n",
      "    },\n",
      "    \"958C1DE5-2FA9-4051-8827-8681C4E7AFF6\": {\n",
      "        \"p\": \"120000\",\n",
      "        \"q\": \"90000\",\n",
      "        \"customerCount\": \"1\",\n",
      "        \"grounded\": \"true\",\n",
      "        \"phaseConnection\": \"Y\",\n",
      "        \"phases\": [\n",
      "            {\n",
      "                \"p\": \"120000\",\n",
      "                \"q\": \"90000\",\n",
      "                \"phase\": \"B\"\n",
      "            }\n",
      "        ]\n",
      "    },\n",
      "    \"F20F52DF-B0B1-4615-B9D3-AC669CE18454\": {\n",
      "        \"p\": \"17000\",\n",
      "        \"q\": \"10000\",\n",
      "        \"customerCount\": \"1\",\n",
      "        \"grounded\": \"true\",\n",
      "        \"phaseConnection\": \"Y\",\n",
      "        \"phases\": [\n",
      "            {\n",
      "                \"p\": \"17000\",\n",
      "                \"q\": \"10000\",\n",
      "                \"phase\": \"A\"\n",
      "            }\n",
      "        ]\n",
      "    }\n",
      "}\n"
     ]
    }
   ],
   "source": [
    "import json\n",
    "print(json.dumps(load_data, indent=4))"
   ]
  },
  {
   "cell_type": "code",
   "execution_count": 10,
   "metadata": {},
   "outputs": [],
   "source": [
    "@dataclass\n",
    "class cimplified_ACLineSegment():\n",
    "    mRID: Optional[str] = field(default=None)\n",
    "    name: Optional[str] = field(default=None)\n",
    "    r: Optional[str] = field(default=None)\n",
    "    x: Optional[str] = field(default=None)\n",
    "    bch: Optional[str] = field(default=None)\n",
    "    r0: Optional[str] = field(default=None)\n",
    "    x0: Optional[str] = field(default=None)\n",
    "    b0ch: Optional[str] = field(default=None)\n",
    "    phases: Optional[list] = field(default_factory=list)\n",
    "\n",
    "    \n",
    "@dataclass \n",
    "class cimplified_ACLineSegmentPhase():\n",
    "    name: Optional[str] = field(default=None)\n",
    "    phase: Optional[str] = field(default=None)\n",
    "    \n",
    "\n"
   ]
  },
  {
   "cell_type": "code",
   "execution_count": 11,
   "metadata": {},
   "outputs": [
    {
     "data": {
      "text/plain": [
       "{'mRID': None,\n",
       " 'name': None,\n",
       " 'r': None,\n",
       " 'x': None,\n",
       " 'bch': None,\n",
       " 'r0': None,\n",
       " 'x0': None,\n",
       " 'b0ch': None,\n",
       " 'phases': [cimplified_ACLineSegmentPhase(name='1', phase=None),\n",
       "  cimplified_ACLineSegmentPhase(name='2', phase=None)]}"
      ]
     },
     "execution_count": 11,
     "metadata": {},
     "output_type": "execute_result"
    }
   ],
   "source": [
    "line = cimplified_ACLineSegment()\n",
    "p1 = cimplified_ACLineSegmentPhase(name = '1')\n",
    "p2 = cimplified_ACLineSegmentPhase(name = '2')\n",
    "\n",
    "line.phases.append(p1)\n",
    "line.phases.append(p2)\n",
    "line.__dict__"
   ]
  },
  {
   "cell_type": "code",
   "execution_count": 12,
   "metadata": {},
   "outputs": [
    {
     "data": {
      "text/plain": [
       "dict_keys(['b0ch', 'bch', 'g0ch', 'gch', 'r', 'r0', 'shortCircuitEndTemperature', 'x', 'x0', 'ACLineSegmentPhases', 'Clamp', 'Cut', 'LineFaults', 'ParallelLineSegment', 'PerLengthImpedance', 'WireSpacingInfo'])"
      ]
     },
     "execution_count": 12,
     "metadata": {},
     "output_type": "execute_result"
    }
   ],
   "source": [
    "cim.ACLineSegment.__annotations__.keys()"
   ]
  },
  {
   "cell_type": "code",
   "execution_count": 13,
   "metadata": {},
   "outputs": [
    {
     "name": "stdout",
     "output_type": "stream",
     "text": [
      "[\n",
      "            \"coolingSetpoint\",\n",
      "            \"coolingSystem\",\n",
      "            \"floorArea\",\n",
      "            \"heatingSetpoint\",\n",
      "            \"heatingSystem\",\n",
      "            \"hvacPowerFactor\",\n",
      "            \"numberOfStories\",\n",
      "            \"EnergyConsumer\",\n",
      "            \"ThermostatController\"\n",
      "]\n"
     ]
    }
   ],
   "source": [
    "cim_class = cim.House\n",
    "print(json.dumps(list(cim_class.__annotations__.keys()), indent=12))\n"
   ]
  },
  {
   "cell_type": "code",
   "execution_count": null,
   "metadata": {},
   "outputs": [],
   "source": []
  }
 ],
 "metadata": {
  "kernelspec": {
   "display_name": ".venv",
   "language": "python",
   "name": "python3"
  },
  "language_info": {
   "codemirror_mode": {
    "name": "ipython",
    "version": 3
   },
   "file_extension": ".py",
   "mimetype": "text/x-python",
   "name": "python",
   "nbconvert_exporter": "python",
   "pygments_lexer": "ipython3",
   "version": "3.10.12"
  }
 },
 "nbformat": 4,
 "nbformat_minor": 2
}
